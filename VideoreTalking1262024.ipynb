{
  "nbformat": 4,
  "nbformat_minor": 0,
  "metadata": {
    "colab": {
      "provenance": [],
      "gpuType": "T4"
    },
    "kernelspec": {
      "name": "python3",
      "display_name": "Python 3"
    },
    "language_info": {
      "name": "python"
    },
    "accelerator": "GPU"
  },
  "cells": [
    {
      "cell_type": "markdown",
      "source": [
        "\n",
        "\n",
        "# Follow my Instagram : https://www.instagram.com/xsocialandapps/\n"
      ],
      "metadata": {
        "id": "GgwrLKW4gdon"
      }
    },
    {
      "cell_type": "code",
      "execution_count": null,
      "metadata": {
        "id": "_hqPGnUDllnm"
      },
      "outputs": [],
      "source": [
        "# Cell 1: Clone the Repository\n",
        "%cd /content\n",
        "!git clone -b main https://github.com/fffiloni/video-retalking\n",
        "\n",
        "# Navigate to the project directory\n",
        "%cd /content/video-retalking\n",
        "# Install PyTorch and TorchVision for CUDA 11.7\n",
        "!pip install torch==2.0.0+cu117 torchvision==0.15.0+cu117 -f https://download.pytorch.org/whl/torch_stable.html\n",
        "\n",
        "# Install additional Python packages\n",
        "!pip install --no-cache-dir -r requirements.txt gradio==5.4.0 moviepy ninja\n"
      ]
    },
    {
      "cell_type": "markdown",
      "source": [
        "## Cell 2: Download Checkpoints"
      ],
      "metadata": {
        "id": "JN13vybvYQPI"
      }
    },
    {
      "cell_type": "code",
      "source": [
        "\n",
        "import os\n",
        "\n",
        "# Create the checkpoints directory\n",
        "os.makedirs('/content/video-retalking/checkpoints', exist_ok=True)\n",
        "!apt-get update && apt-get install -y aria2\n",
        "\n",
        "# Download checkpoint files\n",
        "!aria2c --console-log-level=error -c -x 16 -s 16 -k 1M https://huggingface.co/camenduru/video-retalking/resolve/main/30_net_gen.pth -d /content/video-retalking/checkpoints -o 30_net_gen.pth\n",
        "!aria2c --console-log-level=error -c -x 16 -s 16 -k 1M https://huggingface.co/camenduru/video-retalking/resolve/main/BFM.zip -d /content/video-retalking/checkpoints -o BFM.zip\n",
        "!aria2c --console-log-level=error -c -x 16 -s 16 -k 1M https://huggingface.co/camenduru/video-retalking/resolve/main/DNet.pt -d /content/video-retalking/checkpoints -o DNet.pt\n",
        "!aria2c --console-log-level=error -c -x 16 -s 16 -k 1M https://huggingface.co/camenduru/video-retalking/resolve/main/ENet.pth -d /content/video-retalking/checkpoints -o ENet.pth\n",
        "!aria2c --console-log-level=error -c -x 16 -s 16 -k 1M https://huggingface.co/camenduru/video-retalking/resolve/main/GFPGANv1.3.pth -d /content/video-retalking/checkpoints -o GFPGANv1.3.pth\n",
        "!aria2c --console-log-level=error -c -x 16 -s 16 -k 1M https://huggingface.co/camenduru/video-retalking/resolve/main/GPEN-BFR-512.pth -d /content/video-retalking/checkpoints -o GPEN-BFR-512.pth\n",
        "!aria2c --console-log-level=error -c -x 16 -s 16 -k 1M https://huggingface.co/camenduru/video-retalking/resolve/main/LNet.pth -d /content/video-retalking/checkpoints -o LNet.pth\n",
        "!aria2c --console-log-level=error -c -x 16 -s 16 -k 1M https://huggingface.co/camenduru/video-retalking/resolve/main/ParseNet-latest.pth -d /content/video-retalking/checkpoints -o ParseNet-latest.pth\n",
        "!aria2c --console-log-level=error -c -x 16 -s 16 -k 1M https://huggingface.co/camenduru/video-retalking/resolve/main/RetinaFace-R50.pth -d /content/video-retalking/checkpoints -o RetinaFace-R50.pth\n",
        "!aria2c --console-log-level=error -c -x 16 -s 16 -k 1M https://huggingface.co/camenduru/video-retalking/resolve/main/expression.mat -d /content/video-retalking/checkpoints -o expression.mat\n",
        "!aria2c --console-log-level=error -c -x 16 -s 16 -k 1M https://huggingface.co/camenduru/video-retalking/resolve/main/face3d_pretrain_epoch_20.pth -d /content/video-retalking/checkpoints -o face3d_pretrain_epoch_20.pth\n",
        "!aria2c --console-log-level=error -c -x 16 -s 16 -k 1M https://huggingface.co/camenduru/video-retalking/resolve/main/shape_predictor_68_face_landmarks.dat -d /content/video-retalking/checkpoints -o shape_predictor_68_face_landmarks.dat\n",
        "\n",
        "# Unzip BFM.zip\n",
        "!unzip -d /content/video-retalking/checkpoints/BFM /content/video-retalking/checkpoints/BFM.zip\n"
      ],
      "metadata": {
        "id": "1daBom7LnMt4"
      },
      "execution_count": null,
      "outputs": []
    },
    {
      "cell_type": "markdown",
      "source": [
        "## Cell 3: Run the Application With Gradio"
      ],
      "metadata": {
        "id": "GPUQLoXJYegP"
      }
    },
    {
      "cell_type": "code",
      "source": [
        "\n",
        "!python app.py\n"
      ],
      "metadata": {
        "id": "MxvtPddxoeGR"
      },
      "execution_count": null,
      "outputs": []
    },
    {
      "cell_type": "markdown",
      "source": [
        "# Cell : Run the Application With NGROK\n",
        "\n"
      ],
      "metadata": {
        "id": "gmx2aMkZYsuv"
      }
    },
    {
      "cell_type": "code",
      "source": [
        "\n",
        "# --- Variables ---\n",
        "\n",
        "Ngrok_token = \"\"  # Update with your ngrok token\n",
        "Ngrok_domain = \"\"  # optional, leave empty if you don't have a domain\n",
        "port = 7860\n",
        "HOME_FOLDER = \"/content/video-retalking\"\n",
        "\n",
        "# -----------------\n",
        "\n",
        "!pip install pyngrok==6.1.0  # Downgrade to a version that supports ngrok tunneling\n",
        "\n",
        "from pyngrok import ngrok, conf\n",
        "import gc\n",
        "\n",
        "gc.collect()\n",
        "\n",
        "if Ngrok_token:\n",
        "    try:\n",
        "        ngrok.set_auth_token(Ngrok_token)\n",
        "        ngrok.kill()\n",
        "        srv = ngrok.connect(port)\n",
        "        print(f\"Ngrok Tunnel is active at: {srv.public_url}\")\n",
        "\n",
        "        # Command to start\n",
        "        !echo -e \"A\\nN\" | python /content/video-retalking/app.py\n",
        "\n",
        "    except Exception as e:\n",
        "        print(f\"Error starting ngrok tunnel: {e}\")\n",
        "else:\n",
        "    print('An ngrok token is required. You can get one on https://ngrok.com and paste it into the Ngrok_token field.')\n"
      ],
      "metadata": {
        "id": "sHqzoybet5wx"
      },
      "execution_count": null,
      "outputs": []
    }
  ]
}